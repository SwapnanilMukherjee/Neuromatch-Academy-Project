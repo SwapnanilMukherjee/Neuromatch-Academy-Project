{
  "nbformat": 4,
  "nbformat_minor": 0,
  "metadata": {
    "colab": {
      "provenance": []
    },
    "kernelspec": {
      "name": "python3",
      "display_name": "Python 3"
    },
    "language_info": {
      "name": "python"
    },
    "accelerator": "GPU",
    "gpuClass": "standard",
    "widgets": {
      "application/vnd.jupyter.widget-state+json": {
        "8822ba1c1fed4f28bf3b592212429797": {
          "model_module": "@jupyter-widgets/controls",
          "model_name": "HBoxModel",
          "model_module_version": "1.5.0",
          "state": {
            "_dom_classes": [],
            "_model_module": "@jupyter-widgets/controls",
            "_model_module_version": "1.5.0",
            "_model_name": "HBoxModel",
            "_view_count": null,
            "_view_module": "@jupyter-widgets/controls",
            "_view_module_version": "1.5.0",
            "_view_name": "HBoxView",
            "box_style": "",
            "children": [
              "IPY_MODEL_095a0f603689466aadb0c61bc91bc66a",
              "IPY_MODEL_42cf12da5b474adab8916d03f760497d",
              "IPY_MODEL_1760b7f12c0f4f96aff9960ebb9155bf"
            ],
            "layout": "IPY_MODEL_f064230dbcbd4fc8b67d978a2a156ac9"
          }
        },
        "095a0f603689466aadb0c61bc91bc66a": {
          "model_module": "@jupyter-widgets/controls",
          "model_name": "HTMLModel",
          "model_module_version": "1.5.0",
          "state": {
            "_dom_classes": [],
            "_model_module": "@jupyter-widgets/controls",
            "_model_module_version": "1.5.0",
            "_model_name": "HTMLModel",
            "_view_count": null,
            "_view_module": "@jupyter-widgets/controls",
            "_view_module_version": "1.5.0",
            "_view_name": "HTMLView",
            "description": "",
            "description_tooltip": null,
            "layout": "IPY_MODEL_ead7845cff8c42aba5206e4948c2c324",
            "placeholder": "​",
            "style": "IPY_MODEL_f8b9e40ccfc942c79ec2c9f078f80258",
            "value": "100%"
          }
        },
        "42cf12da5b474adab8916d03f760497d": {
          "model_module": "@jupyter-widgets/controls",
          "model_name": "FloatProgressModel",
          "model_module_version": "1.5.0",
          "state": {
            "_dom_classes": [],
            "_model_module": "@jupyter-widgets/controls",
            "_model_module_version": "1.5.0",
            "_model_name": "FloatProgressModel",
            "_view_count": null,
            "_view_module": "@jupyter-widgets/controls",
            "_view_module_version": "1.5.0",
            "_view_name": "ProgressView",
            "bar_style": "success",
            "description": "",
            "description_tooltip": null,
            "layout": "IPY_MODEL_8fe3d09894ce4700b8274574041c4454",
            "max": 16576957,
            "min": 0,
            "orientation": "horizontal",
            "style": "IPY_MODEL_8d096e0c365d446abc0e93b486d782b0",
            "value": 16576957
          }
        },
        "1760b7f12c0f4f96aff9960ebb9155bf": {
          "model_module": "@jupyter-widgets/controls",
          "model_name": "HTMLModel",
          "model_module_version": "1.5.0",
          "state": {
            "_dom_classes": [],
            "_model_module": "@jupyter-widgets/controls",
            "_model_module_version": "1.5.0",
            "_model_name": "HTMLModel",
            "_view_count": null,
            "_view_module": "@jupyter-widgets/controls",
            "_view_module_version": "1.5.0",
            "_view_name": "HTMLView",
            "description": "",
            "description_tooltip": null,
            "layout": "IPY_MODEL_7c4ada38ef1d472e929a4a1318ec1d18",
            "placeholder": "​",
            "style": "IPY_MODEL_ddf83d8ece794c799fe6ea1f2c5aeed4",
            "value": " 15.8M/15.8M [00:02&lt;00:00, 11.3MB/s]"
          }
        },
        "f064230dbcbd4fc8b67d978a2a156ac9": {
          "model_module": "@jupyter-widgets/base",
          "model_name": "LayoutModel",
          "model_module_version": "1.2.0",
          "state": {
            "_model_module": "@jupyter-widgets/base",
            "_model_module_version": "1.2.0",
            "_model_name": "LayoutModel",
            "_view_count": null,
            "_view_module": "@jupyter-widgets/base",
            "_view_module_version": "1.2.0",
            "_view_name": "LayoutView",
            "align_content": null,
            "align_items": null,
            "align_self": null,
            "border": null,
            "bottom": null,
            "display": null,
            "flex": null,
            "flex_flow": null,
            "grid_area": null,
            "grid_auto_columns": null,
            "grid_auto_flow": null,
            "grid_auto_rows": null,
            "grid_column": null,
            "grid_gap": null,
            "grid_row": null,
            "grid_template_areas": null,
            "grid_template_columns": null,
            "grid_template_rows": null,
            "height": null,
            "justify_content": null,
            "justify_items": null,
            "left": null,
            "margin": null,
            "max_height": null,
            "max_width": null,
            "min_height": null,
            "min_width": null,
            "object_fit": null,
            "object_position": null,
            "order": null,
            "overflow": null,
            "overflow_x": null,
            "overflow_y": null,
            "padding": null,
            "right": null,
            "top": null,
            "visibility": null,
            "width": null
          }
        },
        "ead7845cff8c42aba5206e4948c2c324": {
          "model_module": "@jupyter-widgets/base",
          "model_name": "LayoutModel",
          "model_module_version": "1.2.0",
          "state": {
            "_model_module": "@jupyter-widgets/base",
            "_model_module_version": "1.2.0",
            "_model_name": "LayoutModel",
            "_view_count": null,
            "_view_module": "@jupyter-widgets/base",
            "_view_module_version": "1.2.0",
            "_view_name": "LayoutView",
            "align_content": null,
            "align_items": null,
            "align_self": null,
            "border": null,
            "bottom": null,
            "display": null,
            "flex": null,
            "flex_flow": null,
            "grid_area": null,
            "grid_auto_columns": null,
            "grid_auto_flow": null,
            "grid_auto_rows": null,
            "grid_column": null,
            "grid_gap": null,
            "grid_row": null,
            "grid_template_areas": null,
            "grid_template_columns": null,
            "grid_template_rows": null,
            "height": null,
            "justify_content": null,
            "justify_items": null,
            "left": null,
            "margin": null,
            "max_height": null,
            "max_width": null,
            "min_height": null,
            "min_width": null,
            "object_fit": null,
            "object_position": null,
            "order": null,
            "overflow": null,
            "overflow_x": null,
            "overflow_y": null,
            "padding": null,
            "right": null,
            "top": null,
            "visibility": null,
            "width": null
          }
        },
        "f8b9e40ccfc942c79ec2c9f078f80258": {
          "model_module": "@jupyter-widgets/controls",
          "model_name": "DescriptionStyleModel",
          "model_module_version": "1.5.0",
          "state": {
            "_model_module": "@jupyter-widgets/controls",
            "_model_module_version": "1.5.0",
            "_model_name": "DescriptionStyleModel",
            "_view_count": null,
            "_view_module": "@jupyter-widgets/base",
            "_view_module_version": "1.2.0",
            "_view_name": "StyleView",
            "description_width": ""
          }
        },
        "8fe3d09894ce4700b8274574041c4454": {
          "model_module": "@jupyter-widgets/base",
          "model_name": "LayoutModel",
          "model_module_version": "1.2.0",
          "state": {
            "_model_module": "@jupyter-widgets/base",
            "_model_module_version": "1.2.0",
            "_model_name": "LayoutModel",
            "_view_count": null,
            "_view_module": "@jupyter-widgets/base",
            "_view_module_version": "1.2.0",
            "_view_name": "LayoutView",
            "align_content": null,
            "align_items": null,
            "align_self": null,
            "border": null,
            "bottom": null,
            "display": null,
            "flex": null,
            "flex_flow": null,
            "grid_area": null,
            "grid_auto_columns": null,
            "grid_auto_flow": null,
            "grid_auto_rows": null,
            "grid_column": null,
            "grid_gap": null,
            "grid_row": null,
            "grid_template_areas": null,
            "grid_template_columns": null,
            "grid_template_rows": null,
            "height": null,
            "justify_content": null,
            "justify_items": null,
            "left": null,
            "margin": null,
            "max_height": null,
            "max_width": null,
            "min_height": null,
            "min_width": null,
            "object_fit": null,
            "object_position": null,
            "order": null,
            "overflow": null,
            "overflow_x": null,
            "overflow_y": null,
            "padding": null,
            "right": null,
            "top": null,
            "visibility": null,
            "width": null
          }
        },
        "8d096e0c365d446abc0e93b486d782b0": {
          "model_module": "@jupyter-widgets/controls",
          "model_name": "ProgressStyleModel",
          "model_module_version": "1.5.0",
          "state": {
            "_model_module": "@jupyter-widgets/controls",
            "_model_module_version": "1.5.0",
            "_model_name": "ProgressStyleModel",
            "_view_count": null,
            "_view_module": "@jupyter-widgets/base",
            "_view_module_version": "1.2.0",
            "_view_name": "StyleView",
            "bar_color": null,
            "description_width": ""
          }
        },
        "7c4ada38ef1d472e929a4a1318ec1d18": {
          "model_module": "@jupyter-widgets/base",
          "model_name": "LayoutModel",
          "model_module_version": "1.2.0",
          "state": {
            "_model_module": "@jupyter-widgets/base",
            "_model_module_version": "1.2.0",
            "_model_name": "LayoutModel",
            "_view_count": null,
            "_view_module": "@jupyter-widgets/base",
            "_view_module_version": "1.2.0",
            "_view_name": "LayoutView",
            "align_content": null,
            "align_items": null,
            "align_self": null,
            "border": null,
            "bottom": null,
            "display": null,
            "flex": null,
            "flex_flow": null,
            "grid_area": null,
            "grid_auto_columns": null,
            "grid_auto_flow": null,
            "grid_auto_rows": null,
            "grid_column": null,
            "grid_gap": null,
            "grid_row": null,
            "grid_template_areas": null,
            "grid_template_columns": null,
            "grid_template_rows": null,
            "height": null,
            "justify_content": null,
            "justify_items": null,
            "left": null,
            "margin": null,
            "max_height": null,
            "max_width": null,
            "min_height": null,
            "min_width": null,
            "object_fit": null,
            "object_position": null,
            "order": null,
            "overflow": null,
            "overflow_x": null,
            "overflow_y": null,
            "padding": null,
            "right": null,
            "top": null,
            "visibility": null,
            "width": null
          }
        },
        "ddf83d8ece794c799fe6ea1f2c5aeed4": {
          "model_module": "@jupyter-widgets/controls",
          "model_name": "DescriptionStyleModel",
          "model_module_version": "1.5.0",
          "state": {
            "_model_module": "@jupyter-widgets/controls",
            "_model_module_version": "1.5.0",
            "_model_name": "DescriptionStyleModel",
            "_view_count": null,
            "_view_module": "@jupyter-widgets/base",
            "_view_module_version": "1.2.0",
            "_view_name": "StyleView",
            "description_width": ""
          }
        }
      }
    }
  },
  "cells": [
    {
      "cell_type": "code",
      "execution_count": null,
      "metadata": {
        "id": "0TfxzvSPkYqm"
      },
      "outputs": [],
      "source": [
        "import torch\n",
        "import torchvision\n",
        "import torchvision.transforms as transforms\n",
        "from torch.optim import Adam, SGD, AdamW\n",
        "import torch.nn as nn\n",
        "from torch.nn import Linear\n",
        "from torch.utils.data import TensorDataset, DataLoader\n",
        "\n",
        "import numpy as np\n",
        "import matplotlib.pyplot as plt \n",
        "import seaborn as sns\n",
        "import os\n",
        "from sklearn.preprocessing import LabelEncoder, OneHotEncoder"
      ]
    },
    {
      "cell_type": "code",
      "source": [
        "#@title downloading the data\n",
        "import os, requests, tarfile\n",
        "\n",
        "fnames = [\"kay_labels.npy\", \"kay_labels_val.npy\", \"kay_images.npz\"]\n",
        "urls = [\"https://osf.io/r638s/download\",\n",
        "        \"https://osf.io/yqb3e/download\",\n",
        "        \"https://osf.io/ymnjv/download\"]\n",
        "\n",
        "for fname, url in zip(fnames, urls):\n",
        "  if not os.path.isfile(fname):\n",
        "    try:\n",
        "      r = requests.get(url)\n",
        "    except requests.ConnectionError:\n",
        "      print(\"!!! Failed to download data !!!\")\n",
        "    else:\n",
        "      if r.status_code != requests.codes.ok:\n",
        "        print(\"!!! Failed to download data !!!\")\n",
        "      else:\n",
        "        print(f\"Downloading {fname}...\")\n",
        "        with open(fname, \"wb\") as fid:\n",
        "          fid.write(r.content)\n",
        "        print(f\"Download {fname} completed!\")"
      ],
      "metadata": {
        "id": "fUmnAAW3mqrU",
        "colab": {
          "base_uri": "https://localhost:8080/"
        },
        "outputId": "103113e1-7c14-4618-8f81-9c6a435dc85d"
      },
      "execution_count": null,
      "outputs": [
        {
          "output_type": "stream",
          "name": "stdout",
          "text": [
            "Downloading kay_labels.npy...\n",
            "Download kay_labels.npy completed!\n",
            "Downloading kay_labels_val.npy...\n",
            "Download kay_labels_val.npy completed!\n",
            "Downloading kay_images.npz...\n",
            "Download kay_images.npz completed!\n"
          ]
        }
      ]
    },
    {
      "cell_type": "code",
      "source": [
        "with np.load(fname) as dobj:\n",
        "  dat = dict(**dobj)\n",
        "labels = np.load('kay_labels.npy')\n",
        "val_labels = np.load('kay_labels_val.npy')"
      ],
      "metadata": {
        "id": "eekF8NLDm_Jk"
      },
      "execution_count": null,
      "outputs": []
    },
    {
      "cell_type": "code",
      "source": [
        "print(dat.keys())"
      ],
      "metadata": {
        "colab": {
          "base_uri": "https://localhost:8080/"
        },
        "id": "CAuZSws5m_RB",
        "outputId": "a80e2b25-6206-4586-9c3b-89ab9394c4cf"
      },
      "execution_count": null,
      "outputs": [
        {
          "output_type": "stream",
          "name": "stdout",
          "text": [
            "dict_keys(['stimuli', 'stimuli_test', 'responses', 'responses_test', 'roi', 'roi_names'])\n"
          ]
        }
      ]
    },
    {
      "cell_type": "code",
      "source": [
        "labels"
      ],
      "metadata": {
        "id": "1D03fWE74ma8",
        "outputId": "712915ef-27d9-42f7-a8d9-f018fa9a3761",
        "colab": {
          "base_uri": "https://localhost:8080/"
        }
      },
      "execution_count": null,
      "outputs": [
        {
          "output_type": "execute_result",
          "data": {
            "text/plain": [
              "array([['artifact', 'entity', 'animal', ..., 'artifact', 'artifact',\n",
              "        'artifact'],\n",
              "       ['instrumentality', 'round shape', 'vertebrate', ..., 'structure',\n",
              "        'structure', 'instrumentality'],\n",
              "       ['equipment', 'sphere', 'mammal', ..., 'building', 'landing',\n",
              "        'conveyance'],\n",
              "       ['croquet ball', 'bubble', 'komondor', ..., 'monastery', 'dock',\n",
              "        'warplane']], dtype='<U71')"
            ]
          },
          "metadata": {},
          "execution_count": 5
        }
      ]
    },
    {
      "cell_type": "code",
      "source": [
        "labels.shape\n",
        "labels = np.transpose(labels)\n",
        "val_labels = np.transpose(val_labels)"
      ],
      "metadata": {
        "id": "XwnEA5lZ4RDg"
      },
      "execution_count": null,
      "outputs": []
    },
    {
      "cell_type": "code",
      "source": [
        "print(labels.shape)"
      ],
      "metadata": {
        "id": "lAR-2Y_f5PZG",
        "colab": {
          "base_uri": "https://localhost:8080/"
        },
        "outputId": "b85e3bf2-a49e-4278-cbc8-f5c4154124a4"
      },
      "execution_count": null,
      "outputs": [
        {
          "output_type": "stream",
          "name": "stdout",
          "text": [
            "(1750, 4)\n"
          ]
        }
      ]
    },
    {
      "cell_type": "code",
      "source": [
        "device = 'cuda'"
      ],
      "metadata": {
        "id": "vQPNVdsSVTvi"
      },
      "execution_count": null,
      "outputs": []
    },
    {
      "cell_type": "code",
      "source": [
        "import cv2\n",
        "\n",
        "def channel_amplify(data):\n",
        "    height = 128\n",
        "    width = 128\n",
        "    nchannels = 3\n",
        "    my_new_image_set = []\n",
        "\n",
        "    for i in range (len(data)):\n",
        "        # print(f'I am in the {i}th image')\n",
        "        img = data[i]\n",
        "        new_img = np.zeros((height,width,nchannels))\n",
        "        for ch in range(nchannels):\n",
        "            for xx in range(height):\n",
        "                for yy in range(width):\n",
        "                    new_img[xx,yy,ch] = img[xx,yy]\n",
        "        img = new_img\n",
        "        img_upscaled = cv2.resize(img, dsize=(224, 224), interpolation=cv2.INTER_CUBIC)\n",
        "        my_new_image_set.append(img_upscaled)\n",
        "\n",
        "    print(len(my_new_image_set))\n",
        "\n",
        "    my_new_image_set = np.array(my_new_image_set)\n",
        "    my_new_image_set = my_new_image_set.transpose(0,3,1,2)\n",
        "\n",
        "    return my_new_image_set\n",
        "\n",
        "train_stimuli = channel_amplify(dat['stimuli'])\n",
        "test_stimuli = channel_amplify(dat['stimuli_test'])"
      ],
      "metadata": {
        "id": "We5IBp6PXnGe"
      },
      "execution_count": null,
      "outputs": []
    },
    {
      "cell_type": "code",
      "source": [
        "# extracting the full dimension from the arrays\n",
        "label_row1 = labels[:, 0]\n",
        "label_row2 = labels[:, 1]\n",
        "label_row3 = labels[:, 2]\n",
        "label_row4 = labels[:, 3]\n",
        "\n",
        "label_row2.shape"
      ],
      "metadata": {
        "id": "698LnX9s5gi7"
      },
      "execution_count": null,
      "outputs": []
    },
    {
      "cell_type": "code",
      "source": [
        "test_labels_row1 = val_labels[:, 0] \n",
        "test_labels_row2 = val_labels[:, 1]\n",
        "test_labels_row3 = val_labels[:, 2]\n",
        "test_labels_row4 = val_labels[:, 3]\n",
        "\n",
        "test_labels_row2.shape"
      ],
      "metadata": {
        "id": "QqmV5_Pyxsv3"
      },
      "execution_count": null,
      "outputs": []
    },
    {
      "cell_type": "code",
      "source": [
        "labels.shape"
      ],
      "metadata": {
        "id": "8QcptaGIzk0n"
      },
      "execution_count": null,
      "outputs": []
    },
    {
      "cell_type": "code",
      "source": [
        "# creating training and testing features\n",
        "train_x = torch.from_numpy(train_stimuli)\n",
        "test_x = torch.from_numpy(test_stimuli)   "
      ],
      "metadata": {
        "id": "-iWB-S3y90RO"
      },
      "execution_count": null,
      "outputs": []
    },
    {
      "cell_type": "code",
      "source": [
        "train_x[0].shape"
      ],
      "metadata": {
        "id": "OZ43wK4XmHGD"
      },
      "execution_count": null,
      "outputs": []
    },
    {
      "cell_type": "code",
      "source": [
        "from sklearn.preprocessing import OneHotEncoder, LabelEncoder\n",
        "\n",
        "# creating training labels \n",
        "LabelEncoder = LabelEncoder()\n",
        "OneHotEncoder = OneHotEncoder()\n",
        "\n",
        "label_encoded_1 = LabelEncoder.fit_transform(label_row1)\n",
        "# row1_labels = OneHotEncoder.fit_transform(label_encoded_1.reshape(-1,1)).toarray()\n",
        "train_y_1 = torch.tensor(label_encoded_1)\n",
        "\n",
        "label_encoded_2 = LabelEncoder.fit_transform(label_row2)\n",
        "# row2_labels = OneHotEncoder.fit_transform(label_encoded_2.reshape(-1,1)).toarray()\n",
        "train_y_2 = torch.tensor(label_encoded_2)\n",
        "\n",
        "label_encoded_3 = LabelEncoder.fit_transform(label_row3)\n",
        "# row3_labels = OneHotEncoder.fit_transform(label_encoded_3.reshape(-1,1)).toarray()\n",
        "train_y_3 = torch.tensor(label_encoded_3)\n",
        "\n",
        "label_encoded_4 = LabelEncoder.fit_transform(label_row4)\n",
        "# row4_labels = OneHotEncoder.fit_transform(label_encoded_4.reshape(-1,1)).toarray()\n",
        "train_y_4 = torch.tensor(label_encoded_4)\n",
        "\n",
        "#print(train_y_1.shape)\n",
        "#print(train_y_1)\n",
        "#print(np.unique(label_encoded))\n",
        "\n",
        "#print(row1_labels.shape)\n",
        "#print(row1_labels)\n",
        "\n"
      ],
      "metadata": {
        "id": "AO7oIzlAN_Ym"
      },
      "execution_count": null,
      "outputs": []
    },
    {
      "cell_type": "code",
      "source": [
        "# creating testing labels\n",
        "\n",
        "test_1 = LabelEncoder.fit_transform(test_labels_row1)\n",
        "test_y_1 = torch.tensor(test_1)\n",
        "\n",
        "test_2 = LabelEncoder.fit_transform(test_labels_row2)\n",
        "test_y_2 = torch.tensor(test_2)\n",
        "\n",
        "test_3 = LabelEncoder.fit_transform(test_labels_row3)\n",
        "test_y_3 = torch.tensor(test_3)\n",
        "\n",
        "test_4 = LabelEncoder.fit_transform(test_labels_row4)\n",
        "test_y_4 = torch.tensor(test_4)\n",
        "\n",
        "# print(test_y_1.shape)\n",
        "# print(test_y_2.shape)\n",
        "# print(test_y_3.shape)\n",
        "# print(test_y_4.shape)\n",
        "# print(test_y_1[0].shape)"
      ],
      "metadata": {
        "id": "yXNV6S1-xW_P"
      },
      "execution_count": null,
      "outputs": []
    },
    {
      "cell_type": "code",
      "source": [
        "from torch.utils.data import TensorDataset, DataLoader\n",
        "\n",
        "batch_size = 128\n",
        "train_data_1 = TensorDataset(train_x, train_y_1)\n",
        "train_dataloader_1 = DataLoader(train_data_1, batch_size=batch_size, shuffle=True)\n",
        "\n",
        "train_data_2 = TensorDataset(train_x, train_y_2)\n",
        "train_dataloader_2 = DataLoader(train_data_2, batch_size=batch_size, shuffle=True)\n",
        "\n",
        "train_data_3 = TensorDataset(train_x, train_y_3)\n",
        "train_dataloader_3 = DataLoader(train_data_3, batch_size=batch_size, shuffle=True)\n",
        "\n",
        "train_data_4 = TensorDataset(train_x, train_y_4)\n",
        "train_dataloader_4 = DataLoader(train_data_4, batch_size=batch_size, shuffle=True)"
      ],
      "metadata": {
        "id": "AIG1dfs0Y9b9"
      },
      "execution_count": null,
      "outputs": []
    },
    {
      "cell_type": "code",
      "source": [
        "batch_size = 128\n",
        "test_data_1 = TensorDataset(test_x, test_y_1)\n",
        "test_dataloader_1 = DataLoader(test_data_1, batch_size=batch_size, shuffle=True)\n",
        "\n",
        "test_data_2 = TensorDataset(test_x, test_y_2)\n",
        "test_dataloader_2 = DataLoader(test_data_2, batch_size=batch_size, shuffle=True)\n",
        "\n",
        "test_data_3 = TensorDataset(test_x, test_y_3)\n",
        "test_dataloader_3 = DataLoader(test_data_3, batch_size=batch_size, shuffle=True)\n",
        "\n",
        "test_data_4 = TensorDataset(test_x, test_y_4)\n",
        "test_dataloader_4 = DataLoader(test_data_4, batch_size=batch_size, shuffle=True)"
      ],
      "metadata": {
        "id": "8PCD1ShC0Xzt"
      },
      "execution_count": null,
      "outputs": []
    },
    {
      "cell_type": "code",
      "source": [
        "!git clone https://github.com/dicarlolab/CORnet.git"
      ],
      "metadata": {
        "id": "DAf3DDkK-mm-"
      },
      "execution_count": null,
      "outputs": []
    },
    {
      "cell_type": "code",
      "source": [
        "!pip install git+https://github.com/dicarlolab/CORnet"
      ],
      "metadata": {
        "id": "ZoVaX9RXWsA6"
      },
      "execution_count": null,
      "outputs": []
    },
    {
      "cell_type": "code",
      "source": [
        "import torch.nn as nn\n",
        "from torch.nn import Linear\n",
        "from collections import OrderedDict\n",
        "\n",
        "import cornet\n",
        "from CORnet.cornet import cornet_z\n",
        "from cornet.cornet_z import HASH as HASH_Z\n",
        "\n",
        "class Flatten(nn.Module):\n",
        "\n",
        "    \"\"\"\n",
        "    Helper module for flattening input tensor to 1-D for the use in Linear modules\n",
        "    \"\"\"\n",
        "\n",
        "    def forward(self, x):\n",
        "        return x.view(x.size(0), -1)\n",
        "\n",
        "class Identity(nn.Module):\n",
        "\n",
        "    \"\"\"\n",
        "    Helper module that stores the current tensor. Useful for accessing by name\n",
        "    \"\"\"\n",
        "\n",
        "    def forward(self, x):\n",
        "        return x\n",
        "\n",
        "def get_model(x):\n",
        "\n",
        "    model = cornet_z(pretrained=True, map_location=None)\n",
        "\n",
        "    model.module.decoder = nn.Sequential((OrderedDict([\n",
        "                ('avgpool', nn.AdaptiveAvgPool2d(1)),\n",
        "                ('flatten', Flatten()),\n",
        "                ('linear', nn.Linear(512, x)),\n",
        "                ('output', Identity())])))\n",
        "\n",
        "    for m in [model.module.decoder]:\n",
        "            if isinstance(m, (nn.Conv2d, nn.Linear)):\n",
        "                nn.init.xavier_uniform_(m.weight)\n",
        "                if m.bias is not None:\n",
        "                    nn.init.constant_(m.bias, 0)\n",
        "            elif isinstance(m, nn.BatchNorm2d):\n",
        "                m.weight.data.fill_(1)\n",
        "                m.bias.data.zero_()\n",
        "    \n",
        "    return model\n",
        "\n",
        "# FINE-TUNE: \n",
        "#   1) train only the decoder layer\n",
        "#   2) train only the last two layers\n",
        "#   3) use different learning rates (lower for V1-1... higher for IT, decoder) (see 1 cycle policy + freezing in fastai)"
      ],
      "metadata": {
        "id": "-wdWSB2xdPeW"
      },
      "execution_count": null,
      "outputs": []
    },
    {
      "cell_type": "code",
      "source": [
        "model = get_model(8)"
      ],
      "metadata": {
        "id": "MiyQdrfy09kn",
        "colab": {
          "base_uri": "https://localhost:8080/",
          "height": 66,
          "referenced_widgets": [
            "8822ba1c1fed4f28bf3b592212429797",
            "095a0f603689466aadb0c61bc91bc66a",
            "42cf12da5b474adab8916d03f760497d",
            "1760b7f12c0f4f96aff9960ebb9155bf",
            "f064230dbcbd4fc8b67d978a2a156ac9",
            "ead7845cff8c42aba5206e4948c2c324",
            "f8b9e40ccfc942c79ec2c9f078f80258",
            "8fe3d09894ce4700b8274574041c4454",
            "8d096e0c365d446abc0e93b486d782b0",
            "7c4ada38ef1d472e929a4a1318ec1d18",
            "ddf83d8ece794c799fe6ea1f2c5aeed4"
          ]
        },
        "outputId": "6a303a3f-f6f6-44b3-858d-6720e43a5441"
      },
      "execution_count": null,
      "outputs": [
        {
          "output_type": "stream",
          "name": "stderr",
          "text": [
            "Downloading: \"https://s3.amazonaws.com/cornet-models/cornet_z-5c427c9c.pth\" to /root/.cache/torch/hub/checkpoints/cornet_z-5c427c9c.pth\n"
          ]
        },
        {
          "output_type": "display_data",
          "data": {
            "text/plain": [
              "  0%|          | 0.00/15.8M [00:00<?, ?B/s]"
            ],
            "application/vnd.jupyter.widget-view+json": {
              "version_major": 2,
              "version_minor": 0,
              "model_id": "8822ba1c1fed4f28bf3b592212429797"
            }
          },
          "metadata": {}
        }
      ]
    },
    {
      "cell_type": "code",
      "source": [
        "for name in model.module.parameters():\n",
        "  print(name)"
      ],
      "metadata": {
        "id": "mhAGo6a0yIiH"
      },
      "execution_count": null,
      "outputs": []
    },
    {
      "cell_type": "code",
      "source": [
        "model.module.decoder"
      ],
      "metadata": {
        "colab": {
          "base_uri": "https://localhost:8080/"
        },
        "id": "oypb_BZa_eHs",
        "outputId": "32f293ab-712c-45bf-f680-eaa8ca1914ce"
      },
      "execution_count": null,
      "outputs": [
        {
          "output_type": "execute_result",
          "data": {
            "text/plain": [
              "Sequential(\n",
              "  (avgpool): AdaptiveAvgPool2d(output_size=1)\n",
              "  (flatten): Flatten()\n",
              "  (linear): Linear(in_features=512, out_features=8, bias=True)\n",
              "  (output): Identity()\n",
              ")"
            ]
          },
          "metadata": {},
          "execution_count": 16
        }
      ]
    },
    {
      "cell_type": "code",
      "source": [
        "model.cuda()"
      ],
      "metadata": {
        "colab": {
          "base_uri": "https://localhost:8080/"
        },
        "id": "kaueD56-_MbO",
        "outputId": "7b61a76e-fe49-4f4b-ca83-7c287df1d988"
      },
      "execution_count": null,
      "outputs": [
        {
          "output_type": "execute_result",
          "data": {
            "text/plain": [
              "DataParallel(\n",
              "  (module): Sequential(\n",
              "    (V1): CORblock_Z(\n",
              "      (conv): Conv2d(3, 64, kernel_size=(7, 7), stride=(2, 2), padding=(3, 3))\n",
              "      (nonlin): ReLU(inplace=True)\n",
              "      (pool): MaxPool2d(kernel_size=3, stride=2, padding=1, dilation=1, ceil_mode=False)\n",
              "      (output): Identity()\n",
              "    )\n",
              "    (V2): CORblock_Z(\n",
              "      (conv): Conv2d(64, 128, kernel_size=(3, 3), stride=(1, 1), padding=(1, 1))\n",
              "      (nonlin): ReLU(inplace=True)\n",
              "      (pool): MaxPool2d(kernel_size=3, stride=2, padding=1, dilation=1, ceil_mode=False)\n",
              "      (output): Identity()\n",
              "    )\n",
              "    (V4): CORblock_Z(\n",
              "      (conv): Conv2d(128, 256, kernel_size=(3, 3), stride=(1, 1), padding=(1, 1))\n",
              "      (nonlin): ReLU(inplace=True)\n",
              "      (pool): MaxPool2d(kernel_size=3, stride=2, padding=1, dilation=1, ceil_mode=False)\n",
              "      (output): Identity()\n",
              "    )\n",
              "    (IT): CORblock_Z(\n",
              "      (conv): Conv2d(256, 512, kernel_size=(3, 3), stride=(1, 1), padding=(1, 1))\n",
              "      (nonlin): ReLU(inplace=True)\n",
              "      (pool): MaxPool2d(kernel_size=3, stride=2, padding=1, dilation=1, ceil_mode=False)\n",
              "      (output): Identity()\n",
              "    )\n",
              "    (decoder): Sequential(\n",
              "      (avgpool): AdaptiveAvgPool2d(output_size=1)\n",
              "      (flatten): Flatten()\n",
              "      (linear): Linear(in_features=512, out_features=8, bias=True)\n",
              "      (output): Identity()\n",
              "    )\n",
              "  )\n",
              ")"
            ]
          },
          "metadata": {},
          "execution_count": 17
        }
      ]
    },
    {
      "cell_type": "code",
      "source": [
        "from torch.optim import SGD, Adam, AdamW\n",
        "\n",
        "optimizer = Adam(model.module.parameters(), lr=0.0005)"
      ],
      "metadata": {
        "id": "lAAO8ickcdaT"
      },
      "execution_count": null,
      "outputs": []
    },
    {
      "cell_type": "code",
      "source": [
        "from torch.nn import CrossEntropyLoss\n",
        "\n",
        "loss_fn = CrossEntropyLoss()"
      ],
      "metadata": {
        "id": "JVWDF5MZpDU_"
      },
      "execution_count": null,
      "outputs": []
    },
    {
      "cell_type": "code",
      "source": [
        "def flat_accuracy(preds, labels):\n",
        "    pred_flat = np.argmax(preds, axis=1).flatten()\n",
        "    labels_flat = labels.flatten()\n",
        "    return np.sum(pred_flat == labels_flat) / len(labels_flat)"
      ],
      "metadata": {
        "id": "pjT0Zb_Twwm3"
      },
      "execution_count": null,
      "outputs": []
    },
    {
      "cell_type": "code",
      "source": [
        "from torchsummary import summary\n",
        "\n",
        "summary(model, (3,224,224))"
      ],
      "metadata": {
        "colab": {
          "base_uri": "https://localhost:8080/"
        },
        "id": "NDDDZdXC1mkj",
        "outputId": "7b2b5193-222b-49c6-98d3-b2e60aab81fd"
      },
      "execution_count": null,
      "outputs": [
        {
          "output_type": "stream",
          "name": "stdout",
          "text": [
            "----------------------------------------------------------------\n",
            "        Layer (type)               Output Shape         Param #\n",
            "================================================================\n",
            "            Conv2d-1         [-1, 64, 112, 112]           9,472\n",
            "              ReLU-2         [-1, 64, 112, 112]               0\n",
            "         MaxPool2d-3           [-1, 64, 56, 56]               0\n",
            "          Identity-4           [-1, 64, 56, 56]               0\n",
            "        CORblock_Z-5           [-1, 64, 56, 56]               0\n",
            "            Conv2d-6          [-1, 128, 56, 56]          73,856\n",
            "              ReLU-7          [-1, 128, 56, 56]               0\n",
            "         MaxPool2d-8          [-1, 128, 28, 28]               0\n",
            "          Identity-9          [-1, 128, 28, 28]               0\n",
            "       CORblock_Z-10          [-1, 128, 28, 28]               0\n",
            "           Conv2d-11          [-1, 256, 28, 28]         295,168\n",
            "             ReLU-12          [-1, 256, 28, 28]               0\n",
            "        MaxPool2d-13          [-1, 256, 14, 14]               0\n",
            "         Identity-14          [-1, 256, 14, 14]               0\n",
            "       CORblock_Z-15          [-1, 256, 14, 14]               0\n",
            "           Conv2d-16          [-1, 512, 14, 14]       1,180,160\n",
            "             ReLU-17          [-1, 512, 14, 14]               0\n",
            "        MaxPool2d-18            [-1, 512, 7, 7]               0\n",
            "         Identity-19            [-1, 512, 7, 7]               0\n",
            "       CORblock_Z-20            [-1, 512, 7, 7]               0\n",
            "AdaptiveAvgPool2d-21            [-1, 512, 1, 1]               0\n",
            "          Flatten-22                  [-1, 512]               0\n",
            "           Linear-23                    [-1, 8]           4,104\n",
            "         Identity-24                    [-1, 8]               0\n",
            "================================================================\n",
            "Total params: 1,562,760\n",
            "Trainable params: 1,562,760\n",
            "Non-trainable params: 0\n",
            "----------------------------------------------------------------\n",
            "Input size (MB): 0.57\n",
            "Forward/backward pass size (MB): 31.59\n",
            "Params size (MB): 5.96\n",
            "Estimated Total Size (MB): 38.13\n",
            "----------------------------------------------------------------\n"
          ]
        }
      ]
    },
    {
      "cell_type": "code",
      "source": [
        "def evaluation(dataloader):\n",
        "\n",
        "    model.eval()\n",
        "\n",
        "    # Tracking variables \n",
        "    eval_loss, eval_accuracy = 0, 0\n",
        "    nb_eval_steps, nb_eval_examples = 0, 0\n",
        "\n",
        "    # Evaluate df1 for one epoch\n",
        "    for batch in dataloader:\n",
        "        # Add batch to GPU\n",
        "        batch = tuple(t.to(device, dtype=torch.float) for t in batch)\n",
        "        # Unpack the inputs from our df1loader\n",
        "        b_inputs, b_labels = batch\n",
        "        # Telling the model not to compute or store gradients, saving memory and speeding up validation\n",
        "        with torch.no_grad():\n",
        "        # Forward pass, calculate logit predictions\n",
        "            predictions = model(b_inputs)\n",
        "        \n",
        "        # Move logits and labels to CPU\n",
        "        predictions = predictions.detach().cpu().numpy()\n",
        "        b_labels = b_labels.to('cpu').numpy()\n",
        "\n",
        "        tmp_eval_accuracy = flat_accuracy(predictions, b_labels)\n",
        "        \n",
        "        eval_accuracy += tmp_eval_accuracy\n",
        "        nb_eval_steps += 1\n",
        "\n",
        "    print(\"Validation Accuracy: {}\".format(eval_accuracy/nb_eval_steps))\n",
        "    return (eval_accuracy/nb_eval_steps)"
      ],
      "metadata": {
        "id": "uteLfCAjwJ9S"
      },
      "execution_count": null,
      "outputs": []
    },
    {
      "cell_type": "code",
      "source": [
        "def training(model, epochs, train_dataloader, test_dataloader):\n",
        "\n",
        "    train_loss_set = []\n",
        "\n",
        "    for _ in range(epochs):\n",
        "\n",
        "        model.train()\n",
        "\n",
        "        tr_loss = 0\n",
        "        nb_tr_examples, nb_tr_steps = 0, 0\n",
        "\n",
        "        for step, batch in enumerate(train_dataloader):\n",
        "            # Add batch to GPU\n",
        "            batch = tuple(t.to(device, dtype=torch.float) for t in batch)\n",
        "            # print(batch)\n",
        "            # Unpack the inputs from our df1loader\n",
        "            b_inputs, b_labels = batch\n",
        "\n",
        "            b_labels = b_labels.to(torch.int64)\n",
        "\n",
        "            '''\n",
        "            print(b_inputs.shape)\n",
        "            print(b_labels.shape)\n",
        "            b_labels.flatten()\n",
        "            print(b_labels[0].shape)\n",
        "            '''\n",
        "\n",
        "            # Clear out the gradients (by default they accumulate)\n",
        "            optimizer.zero_grad()\n",
        "            # Forward pass\n",
        "            predictions = model(b_inputs)\n",
        "            loss = loss_fn(predictions, b_labels)\n",
        "            \n",
        "            train_loss_set.append(loss.item())    \n",
        "            # Backward pass\n",
        "            loss.backward()\n",
        "            # Update parameters and take a step using the computed gradient\n",
        "            optimizer.step()\n",
        "\n",
        "            # Update tracking variables\n",
        "            tr_loss += loss.item()\n",
        "            nb_tr_steps += 1\n",
        "        \n",
        "        print(\"Train loss for epoch {}: {}\".format(_, tr_loss/nb_tr_steps))\n",
        "    \n",
        "        evaluation(test_dataloader)\n",
        "    return train_loss_set\n",
        "            "
      ],
      "metadata": {
        "id": "ZZy8GxajA2sF"
      },
      "execution_count": null,
      "outputs": []
    },
    {
      "cell_type": "code",
      "source": [
        "loss_set = training(model, epochs=15, train_dataloader=train_dataloader_1, test_dataloader=test_dataloader_1)"
      ],
      "metadata": {
        "id": "928bpwVup0Xb"
      },
      "execution_count": null,
      "outputs": []
    },
    {
      "cell_type": "code",
      "source": [
        "len(loss_set)"
      ],
      "metadata": {
        "id": "xGK7uNhfD0AY"
      },
      "execution_count": null,
      "outputs": []
    },
    {
      "cell_type": "code",
      "source": [
        "c = []\n",
        "start = 0\n",
        "for i in range(0, len(loss_set)):\n",
        "    if i%14!=0:\n",
        "        c.append(np.mean(loss_set[start:i]))\n",
        "        start+=14"
      ],
      "metadata": {
        "id": "EIcQW391ELmS"
      },
      "execution_count": null,
      "outputs": []
    },
    {
      "cell_type": "code",
      "source": [
        "plt.plot(range(len(loss_set)), loss_set)\n",
        "plt.show()"
      ],
      "metadata": {
        "id": "6TwJZ8ItAr-L"
      },
      "execution_count": null,
      "outputs": []
    },
    {
      "cell_type": "code",
      "source": [
        "outputs = model(train_x[:32].to(device=device, dtype=torch.float))\n",
        "#loss = loss_fn(outputs, train_y_1[0].to(device=device))\n",
        "print(outputs)"
      ],
      "metadata": {
        "id": "rLtATDPhWTxp"
      },
      "execution_count": null,
      "outputs": []
    },
    {
      "cell_type": "code",
      "source": [
        "print(train_y_1[0])"
      ],
      "metadata": {
        "id": "NpTRR26onwYx"
      },
      "execution_count": null,
      "outputs": []
    }
  ]
}